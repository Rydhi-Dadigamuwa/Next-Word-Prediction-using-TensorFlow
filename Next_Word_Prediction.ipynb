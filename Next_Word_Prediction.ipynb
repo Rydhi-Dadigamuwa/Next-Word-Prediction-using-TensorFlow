{
  "cells": [
    {
      "cell_type": "code",
      "execution_count": 24,
      "metadata": {
        "id": "B1LffW-MAC8P"
      },
      "outputs": [],
      "source": [
        "import tensorflow as tf\n",
        "import numpy as np\n",
        "from tensorflow.keras.models import Sequential\n",
        "from tensorflow.keras.utils import to_categorical\n",
        "from tensorflow.keras.preprocessing.text import Tokenizer\n",
        "from tensorflow.keras.preprocessing.sequence import pad_sequences\n",
        "from tensorflow.keras.layers import Embedding, LSTM, Dense, Bidirectional"
      ]
    },
    {
      "cell_type": "code",
      "execution_count": 25,
      "metadata": {
        "id": "_aZfh6XgAC8Q"
      },
      "outputs": [],
      "source": [
        "file = \"/content/Dataset.txt\"\n",
        "\n",
        "with open(file) as f:\n",
        "    data_in_file = f.read()\n",
        "\n",
        "data = data_in_file.lower().split(\"\\n\")"
      ]
    },
    {
      "cell_type": "code",
      "execution_count": 26,
      "metadata": {
        "colab": {
          "base_uri": "https://localhost:8080/"
        },
        "id": "T7RY9hMLAC8R",
        "outputId": "90bf8aed-7ff4-4bee-9117-13713ebfe139"
      },
      "outputs": [
        {
          "output_type": "stream",
          "name": "stdout",
          "text": [
            "thy youth's proud livery, so gazed on now,\n",
            "will be a tatter'd weed, of small worth held:\n",
            "then being ask'd where all thy beauty lies,\n",
            "where all the treasure of thy lusty days,\n",
            "to say, within thine own deep-sunken eyes,\n"
          ]
        }
      ],
      "source": [
        "#Print first 5 lines\n",
        "for i in range(5):\n",
        "  print(data[i])"
      ]
    },
    {
      "cell_type": "code",
      "execution_count": 27,
      "metadata": {
        "id": "ZULoR2RSAC8R"
      },
      "outputs": [],
      "source": [
        "#Initialize the tokenizer and build vocabulary\n",
        "\n",
        "tokenizer = Tokenizer()\n",
        "tokenizer.fit_on_texts(data)\n",
        "total_words = len(tokenizer.word_index) + 1  #Number of unique words in the data"
      ]
    },
    {
      "cell_type": "code",
      "execution_count": 28,
      "metadata": {
        "colab": {
          "base_uri": "https://localhost:8080/"
        },
        "id": "Tk1Sw6qcAC8S",
        "outputId": "a4f34fde-bd9a-4e96-e7d0-b6f50a6d3e76"
      },
      "outputs": [
        {
          "output_type": "stream",
          "name": "stdout",
          "text": [
            "Total words: 3211\n"
          ]
        }
      ],
      "source": [
        "print(f\"Total words: {total_words}\")"
      ]
    },
    {
      "cell_type": "code",
      "execution_count": 29,
      "metadata": {
        "colab": {
          "base_uri": "https://localhost:8080/"
        },
        "id": "N9cc27-NAC8S",
        "outputId": "ca2834f2-d21d-4b8e-9c6b-a270d77a8195"
      },
      "outputs": [
        {
          "output_type": "stream",
          "name": "stdout",
          "text": [
            "Tokenized line 1: [[9, 1372, 179, 1373, 20, 1374, 35, 61]]\n",
            "Recovered line 1: [\"thy youth's proud livery so gazed on now\"]\n"
          ]
        }
      ],
      "source": [
        "#Check one example by using tokenizing and reverse tokenizing\n",
        "\n",
        "tokenize_line_1 = tokenizer.texts_to_sequences([data[0]])\n",
        "print(f\"Tokenized line 1: {tokenize_line_1}\")\n",
        "recover_line_1 = tokenizer.sequences_to_texts(tokenize_line_1)\n",
        "print(f\"Recovered line 1: {recover_line_1}\")"
      ]
    },
    {
      "cell_type": "code",
      "execution_count": 30,
      "metadata": {
        "colab": {
          "base_uri": "https://localhost:8080/"
        },
        "id": "8sxjmFcNAC8S",
        "outputId": "f8de7947-cd5d-4c7a-e503-c36adb753066"
      },
      "outputs": [
        {
          "output_type": "stream",
          "name": "stdout",
          "text": [
            "The token ID for 'Whose' is: [[129]]\n"
          ]
        }
      ],
      "source": [
        "print(f\"The token ID for 'Whose' is: {tokenizer.texts_to_sequences(['Whose'])}\")"
      ]
    },
    {
      "cell_type": "code",
      "execution_count": 31,
      "metadata": {
        "id": "0B6nRVtxAC8S"
      },
      "outputs": [],
      "source": [
        "#Function for generate sequences usign corpous\n",
        "def sequence_generator(data):\n",
        "    input_sequences = []\n",
        "\n",
        "    for line in data:\n",
        "      tokenized_line = tokenizer.texts_to_sequences([line])[0]\n",
        "\n",
        "      for i in range(1, len(tokenized_line)):\n",
        "          n_gram_sequence = tokenized_line[:i+1]\n",
        "          input_sequences.append(n_gram_sequence)\n",
        "\n",
        "    return input_sequences"
      ]
    },
    {
      "cell_type": "code",
      "execution_count": 32,
      "metadata": {
        "colab": {
          "base_uri": "https://localhost:8080/"
        },
        "id": "al-vWHmyAC8S",
        "outputId": "18b346b7-4298-4d19-d6f7-d88ad53c7a33"
      },
      "outputs": [
        {
          "output_type": "execute_result",
          "data": {
            "text/plain": [
              "[[9, 1372],\n",
              " [9, 1372, 179],\n",
              " [9, 1372, 179, 1373],\n",
              " [9, 1372, 179, 1373, 20],\n",
              " [9, 1372, 179, 1373, 20, 1374],\n",
              " [9, 1372, 179, 1373, 20, 1374, 35],\n",
              " [9, 1372, 179, 1373, 20, 1374, 35, 61]]"
            ]
          },
          "metadata": {},
          "execution_count": 32
        }
      ],
      "source": [
        "#Test with first line of the data\n",
        "first_example = sequence_generator([data[0]])\n",
        "\n",
        "first_example"
      ]
    },
    {
      "cell_type": "code",
      "execution_count": 33,
      "metadata": {
        "id": "BDjzJAbbAC8T"
      },
      "outputs": [],
      "source": [
        "#Convert while data into sequences using sequence_generator function\n",
        "input_sequences = sequence_generator(data)"
      ]
    },
    {
      "cell_type": "code",
      "execution_count": 34,
      "metadata": {
        "colab": {
          "base_uri": "https://localhost:8080/"
        },
        "id": "qhdokzgOAC8T",
        "outputId": "d571ea09-41af-4ed1-cddf-b43e467a5c94"
      },
      "outputs": [
        {
          "output_type": "stream",
          "name": "stdout",
          "text": [
            "maximum length of sequences is: 11\n"
          ]
        }
      ],
      "source": [
        "#max_sequence_len is used for padding sequences\n",
        "\n",
        "max_sequence_len = max([len(x) for x in input_sequences])\n",
        "print(f\"maximum length of sequences is: {max_sequence_len}\")"
      ]
    },
    {
      "cell_type": "code",
      "execution_count": 35,
      "metadata": {
        "id": "ZGs8bw7gAC8T"
      },
      "outputs": [],
      "source": [
        "def pad_seqs(input_sequences, maxlen):\n",
        "    padded_sequences = pad_sequences(input_sequences, maxlen=maxlen, padding='pre')\n",
        "\n",
        "    return padded_sequences"
      ]
    },
    {
      "cell_type": "code",
      "execution_count": 36,
      "metadata": {
        "colab": {
          "base_uri": "https://localhost:8080/"
        },
        "id": "Fad0dvAgAC8T",
        "outputId": "37bdc03e-8532-488f-c2e6-f10b96a2aef4"
      },
      "outputs": [
        {
          "output_type": "execute_result",
          "data": {
            "text/plain": [
              "array([[   0,    0,    0,    0,    0,    0,    9, 1372],\n",
              "       [   0,    0,    0,    0,    0,    9, 1372,  179],\n",
              "       [   0,    0,    0,    0,    9, 1372,  179, 1373],\n",
              "       [   0,    0,    0,    9, 1372,  179, 1373,   20],\n",
              "       [   0,    0,    9, 1372,  179, 1373,   20, 1374],\n",
              "       [   0,    9, 1372,  179, 1373,   20, 1374,   35],\n",
              "       [   9, 1372,  179, 1373,   20, 1374,   35,   61]], dtype=int32)"
            ]
          },
          "metadata": {},
          "execution_count": 36
        }
      ],
      "source": [
        "#Test first line of the text file\n",
        "first_padded_sequence = pad_seqs(first_example, max([len(x) for x in first_example]))\n",
        "first_padded_sequence"
      ]
    },
    {
      "cell_type": "code",
      "execution_count": 37,
      "metadata": {
        "colab": {
          "base_uri": "https://localhost:8080/"
        },
        "id": "b24AQ15IAC8T",
        "outputId": "664eed83-084a-418f-a8a3-2ba8f893f823"
      },
      "outputs": [
        {
          "output_type": "stream",
          "name": "stdout",
          "text": [
            "Shape of input sequences: (15462, 11)\n"
          ]
        }
      ],
      "source": [
        "# Pad the whole data\n",
        "input_sequences = pad_seqs(input_sequences, max_sequence_len)\n",
        "\n",
        "print(f\"Shape of input sequences: {input_sequences.shape}\")"
      ]
    },
    {
      "cell_type": "code",
      "execution_count": 38,
      "metadata": {
        "id": "nDVJm_eIAC8T"
      },
      "outputs": [],
      "source": [
        "def X_and_Y_labels(input_sequences, total_words):\n",
        "\n",
        "    #x_values\n",
        "    X_labels = np.array(input_sequences)[:, :-1]\n",
        "\n",
        "    # Extract labels (last word of each sequence) for y_values\n",
        "    y_labels = np.array(input_sequences)[:, -1]\n",
        "\n",
        "    #Convert to one hot encoding fot each word in Y pair for training model\n",
        "    Y_labels = tf.keras.utils.to_categorical(y_labels, num_classes=total_words) #Convert to one hot encoding\n",
        "\n",
        "    return X_labels, Y_labels"
      ]
    },
    {
      "cell_type": "code",
      "execution_count": 39,
      "metadata": {
        "colab": {
          "base_uri": "https://localhost:8080/"
        },
        "id": "v04zMKiWAC8T",
        "outputId": "e1ce92a5-aac9-4785-9331-459cc164e67e"
      },
      "outputs": [
        {
          "output_type": "stream",
          "name": "stdout",
          "text": [
            "X label shape: (7, 7)\n",
            "Y label shape: (7, 3211)\n",
            "\n",
            "X_labels:\n",
            "\n",
            "[[   0    0    0    0    0    0    9]\n",
            " [   0    0    0    0    0    9 1372]\n",
            " [   0    0    0    0    9 1372  179]\n",
            " [   0    0    0    9 1372  179 1373]\n",
            " [   0    0    9 1372  179 1373   20]\n",
            " [   0    9 1372  179 1373   20 1374]\n",
            " [   9 1372  179 1373   20 1374   35]]\n",
            "\n",
            "Y_labels:\n",
            "\n",
            "[[0. 0. 0. ... 0. 0. 0.]\n",
            " [0. 0. 0. ... 0. 0. 0.]\n",
            " [0. 0. 0. ... 0. 0. 0.]\n",
            " ...\n",
            " [0. 0. 0. ... 0. 0. 0.]\n",
            " [0. 0. 0. ... 0. 0. 0.]\n",
            " [0. 0. 0. ... 0. 0. 0.]]\n"
          ]
        }
      ],
      "source": [
        "# Test your function with the padded n_grams_seq of the first example\n",
        "first_X_labels, first_Y_labels = X_and_Y_labels(first_padded_sequence, total_words)\n",
        "\n",
        "print(f\"X label shape: {first_X_labels.shape}\")\n",
        "print(f\"Y label shape: {first_Y_labels.shape}\")\n",
        "print(\"\\nX_labels:\\n\")\n",
        "print(first_X_labels)\n",
        "print(\"\\nY_labels:\\n\")\n",
        "print(first_Y_labels)\n"
      ]
    },
    {
      "cell_type": "code",
      "execution_count": 40,
      "metadata": {
        "colab": {
          "base_uri": "https://localhost:8080/"
        },
        "id": "vOSIp3fVAC8U",
        "outputId": "54fd6060-5a3d-4151-e966-6906d458f9a8"
      },
      "outputs": [
        {
          "output_type": "stream",
          "name": "stdout",
          "text": [
            "features have shape: (15462, 10)\n",
            "labels have shape: (15462, 3211)\n"
          ]
        }
      ],
      "source": [
        "#Generate X and Y labels for whole the data in the text file\n",
        "X_Values, Y_Values = X_and_Y_labels(input_sequences, total_words)\n",
        "\n",
        "print(f\"features have shape: {X_Values.shape}\")\n",
        "print(f\"labels have shape: {Y_Values.shape}\")"
      ]
    },
    {
      "cell_type": "code",
      "execution_count": 44,
      "metadata": {
        "id": "eL0piQ13AC8U"
      },
      "outputs": [],
      "source": [
        "def create_model(total_words, max_sequence_len):\n",
        "    model = Sequential()\n",
        "    model.add(Embedding(total_words, 100, input_length=max_sequence_len-1))\n",
        "    model.add(Bidirectional(LSTM(128)))\n",
        "    model.add(Dense(total_words, activation='softmax'))\n",
        "\n",
        "    model.compile(loss='categorical_crossentropy',\n",
        "                      optimizer='adam',\n",
        "                      metrics=['accuracy'])\n",
        "    return model"
      ]
    },
    {
      "cell_type": "code",
      "execution_count": 45,
      "metadata": {
        "colab": {
          "base_uri": "https://localhost:8080/"
        },
        "id": "bIUt2pG0AC8U",
        "outputId": "7ac189ea-90d4-4db7-800a-bf6f02007482"
      },
      "outputs": [
        {
          "output_type": "stream",
          "name": "stdout",
          "text": [
            "Epoch 1/50\n",
            "484/484 - 12s - loss: 6.8946 - accuracy: 0.0217 - 12s/epoch - 25ms/step\n",
            "Epoch 2/50\n",
            "484/484 - 4s - loss: 6.4519 - accuracy: 0.0306 - 4s/epoch - 8ms/step\n",
            "Epoch 3/50\n",
            "484/484 - 3s - loss: 6.2149 - accuracy: 0.0394 - 3s/epoch - 7ms/step\n",
            "Epoch 4/50\n",
            "484/484 - 4s - loss: 5.9633 - accuracy: 0.0479 - 4s/epoch - 9ms/step\n",
            "Epoch 5/50\n",
            "484/484 - 3s - loss: 5.6776 - accuracy: 0.0592 - 3s/epoch - 7ms/step\n",
            "Epoch 6/50\n",
            "484/484 - 3s - loss: 5.3430 - accuracy: 0.0753 - 3s/epoch - 7ms/step\n",
            "Epoch 7/50\n",
            "484/484 - 4s - loss: 4.9842 - accuracy: 0.0909 - 4s/epoch - 7ms/step\n",
            "Epoch 8/50\n",
            "484/484 - 4s - loss: 4.6022 - accuracy: 0.1173 - 4s/epoch - 8ms/step\n",
            "Epoch 9/50\n",
            "484/484 - 3s - loss: 4.2296 - accuracy: 0.1545 - 3s/epoch - 7ms/step\n",
            "Epoch 10/50\n",
            "484/484 - 3s - loss: 3.8588 - accuracy: 0.2124 - 3s/epoch - 6ms/step\n",
            "Epoch 11/50\n",
            "484/484 - 4s - loss: 3.5142 - accuracy: 0.2730 - 4s/epoch - 8ms/step\n",
            "Epoch 12/50\n",
            "484/484 - 3s - loss: 3.1941 - accuracy: 0.3324 - 3s/epoch - 7ms/step\n",
            "Epoch 13/50\n",
            "484/484 - 3s - loss: 2.9028 - accuracy: 0.3879 - 3s/epoch - 7ms/step\n",
            "Epoch 14/50\n",
            "484/484 - 4s - loss: 2.6461 - accuracy: 0.4364 - 4s/epoch - 9ms/step\n",
            "Epoch 15/50\n",
            "484/484 - 4s - loss: 2.4201 - accuracy: 0.4841 - 4s/epoch - 9ms/step\n",
            "Epoch 16/50\n",
            "484/484 - 4s - loss: 2.2102 - accuracy: 0.5290 - 4s/epoch - 7ms/step\n",
            "Epoch 17/50\n",
            "484/484 - 3s - loss: 2.0213 - accuracy: 0.5691 - 3s/epoch - 7ms/step\n",
            "Epoch 18/50\n",
            "484/484 - 5s - loss: 1.8554 - accuracy: 0.6115 - 5s/epoch - 9ms/step\n",
            "Epoch 19/50\n",
            "484/484 - 4s - loss: 1.7086 - accuracy: 0.6378 - 4s/epoch - 8ms/step\n",
            "Epoch 20/50\n",
            "484/484 - 4s - loss: 1.5781 - accuracy: 0.6687 - 4s/epoch - 7ms/step\n",
            "Epoch 21/50\n",
            "484/484 - 5s - loss: 1.4527 - accuracy: 0.6953 - 5s/epoch - 9ms/step\n",
            "Epoch 22/50\n",
            "484/484 - 4s - loss: 1.3369 - accuracy: 0.7224 - 4s/epoch - 8ms/step\n",
            "Epoch 23/50\n",
            "484/484 - 4s - loss: 1.2407 - accuracy: 0.7407 - 4s/epoch - 7ms/step\n",
            "Epoch 24/50\n",
            "484/484 - 4s - loss: 1.1543 - accuracy: 0.7585 - 4s/epoch - 8ms/step\n",
            "Epoch 25/50\n",
            "484/484 - 4s - loss: 1.0755 - accuracy: 0.7768 - 4s/epoch - 8ms/step\n",
            "Epoch 26/50\n",
            "484/484 - 3s - loss: 1.0059 - accuracy: 0.7874 - 3s/epoch - 6ms/step\n",
            "Epoch 27/50\n",
            "484/484 - 3s - loss: 0.9537 - accuracy: 0.7980 - 3s/epoch - 7ms/step\n",
            "Epoch 28/50\n",
            "484/484 - 4s - loss: 0.8896 - accuracy: 0.8114 - 4s/epoch - 8ms/step\n",
            "Epoch 29/50\n",
            "484/484 - 3s - loss: 0.8490 - accuracy: 0.8180 - 3s/epoch - 7ms/step\n",
            "Epoch 30/50\n",
            "484/484 - 3s - loss: 0.8107 - accuracy: 0.8252 - 3s/epoch - 6ms/step\n",
            "Epoch 31/50\n",
            "484/484 - 3s - loss: 0.7798 - accuracy: 0.8278 - 3s/epoch - 7ms/step\n",
            "Epoch 32/50\n",
            "484/484 - 4s - loss: 0.7451 - accuracy: 0.8331 - 4s/epoch - 9ms/step\n",
            "Epoch 33/50\n",
            "484/484 - 4s - loss: 0.7296 - accuracy: 0.8362 - 4s/epoch - 8ms/step\n",
            "Epoch 34/50\n",
            "484/484 - 3s - loss: 0.7026 - accuracy: 0.8379 - 3s/epoch - 6ms/step\n",
            "Epoch 35/50\n",
            "484/484 - 4s - loss: 0.6800 - accuracy: 0.8419 - 4s/epoch - 8ms/step\n",
            "Epoch 36/50\n",
            "484/484 - 3s - loss: 0.6718 - accuracy: 0.8406 - 3s/epoch - 7ms/step\n",
            "Epoch 37/50\n",
            "484/484 - 3s - loss: 0.6542 - accuracy: 0.8426 - 3s/epoch - 7ms/step\n",
            "Epoch 38/50\n",
            "484/484 - 3s - loss: 0.6363 - accuracy: 0.8465 - 3s/epoch - 6ms/step\n",
            "Epoch 39/50\n",
            "484/484 - 4s - loss: 0.6375 - accuracy: 0.8454 - 4s/epoch - 8ms/step\n",
            "Epoch 40/50\n",
            "484/484 - 3s - loss: 0.6258 - accuracy: 0.8461 - 3s/epoch - 7ms/step\n",
            "Epoch 41/50\n",
            "484/484 - 3s - loss: 0.6177 - accuracy: 0.8461 - 3s/epoch - 6ms/step\n",
            "Epoch 42/50\n",
            "484/484 - 3s - loss: 0.6128 - accuracy: 0.8479 - 3s/epoch - 7ms/step\n",
            "Epoch 43/50\n",
            "484/484 - 4s - loss: 0.6020 - accuracy: 0.8486 - 4s/epoch - 9ms/step\n",
            "Epoch 44/50\n",
            "484/484 - 3s - loss: 0.5936 - accuracy: 0.8482 - 3s/epoch - 7ms/step\n",
            "Epoch 45/50\n",
            "484/484 - 3s - loss: 0.5877 - accuracy: 0.8490 - 3s/epoch - 7ms/step\n",
            "Epoch 46/50\n",
            "484/484 - 4s - loss: 0.5883 - accuracy: 0.8474 - 4s/epoch - 8ms/step\n",
            "Epoch 47/50\n",
            "484/484 - 4s - loss: 0.5819 - accuracy: 0.8481 - 4s/epoch - 7ms/step\n",
            "Epoch 48/50\n",
            "484/484 - 3s - loss: 0.5781 - accuracy: 0.8491 - 3s/epoch - 7ms/step\n",
            "Epoch 49/50\n",
            "484/484 - 3s - loss: 0.5775 - accuracy: 0.8493 - 3s/epoch - 7ms/step\n",
            "Epoch 50/50\n",
            "484/484 - 4s - loss: 0.5726 - accuracy: 0.8499 - 4s/epoch - 9ms/step\n"
          ]
        }
      ],
      "source": [
        "model = create_model(total_words, max_sequence_len)\n",
        "\n",
        "history = model.fit(X_Values, Y_Values, epochs=50, verbose=2)"
      ]
    },
    {
      "cell_type": "code",
      "execution_count": 46,
      "metadata": {
        "colab": {
          "base_uri": "https://localhost:8080/",
          "height": 887
        },
        "id": "lIEutVdiAC8U",
        "outputId": "22717f60-b34e-4932-8c10-0c1720351beb"
      },
      "outputs": [
        {
          "output_type": "display_data",
          "data": {
            "text/plain": [
              "<Figure size 640x480 with 1 Axes>"
            ],
            "image/png": "[encoded data removed]"
          },
          "metadata": {}
        },
        {
          "output_type": "display_data",
          "data": {
            "text/plain": [
              "<Figure size 640x480 with 1 Axes>"
            ],
            "image/png": "[encoded data removed]"
          },
          "metadata": {}
        }
      ],
      "source": [
        "import matplotlib.pyplot as plt\n",
        "\n",
        "acc = history.history['accuracy']\n",
        "loss = history.history['loss']\n",
        "\n",
        "epochs = range(len(acc))\n",
        "\n",
        "plt.plot(epochs, acc, 'b', label='Training accuracy')\n",
        "plt.title('Training accuracy')\n",
        "\n",
        "plt.figure()\n",
        "\n",
        "plt.plot(epochs, loss, 'b', label='Training Loss')\n",
        "plt.title('Training loss')\n",
        "plt.legend()\n",
        "\n",
        "plt.show()"
      ]
    },
    {
      "cell_type": "code",
      "execution_count": 51,
      "metadata": {
        "colab": {
          "base_uri": "https://localhost:8080/"
        },
        "id": "UoG-_t3BAC8U",
        "outputId": "6d03881b-cdb2-41f4-b48b-e179326d6882"
      },
      "outputs": [
        {
          "output_type": "stream",
          "name": "stdout",
          "text": [
            "Unthrifty loveliness, why dost thou spend spend mine mine eyes prove thee is not heart new had new 'will ' bright worse prove new care in thine eyes seeing rare ill had well knows well knows thee still green thee back doth alone find to be gone new bright worth so behold ' level in me\n"
          ]
        }
      ],
      "source": [
        "testing_text = \"Unthrifty loveliness, why dost thou spend\"\n",
        "next_words = 50\n",
        "\n",
        "for _ in range(next_words):\n",
        "    # Convert the text into sequences\n",
        "    token_list = tokenizer.texts_to_sequences([testing_text])[0]\n",
        "\n",
        "    # Pad the sequences\n",
        "    token_list = pad_sequences([token_list], maxlen=max_sequence_len-1, padding='pre')\n",
        "\n",
        "    # Get the probabilities of predicting a word\n",
        "    predicted = model.predict(token_list, verbose=0)\n",
        "\n",
        "    # Choose the next word based on the maximum probability\n",
        "    predicted = np.argmax(predicted, axis=-1).item()\n",
        "\n",
        "    # Get the actual word from the word index\n",
        "    output_word = tokenizer.index_word[predicted]\n",
        "\n",
        "    # Append to the current text\n",
        "    testing_text += \" \" + output_word\n",
        "\n",
        "print(testing_text)"
      ]
    }
  ],
  "metadata": {
    "kernelspec": {
      "display_name": "Python 3",
      "name": "python3"
    },
    "language_info": {
      "codemirror_mode": {
        "name": "ipython",
        "version": 3
      },
      "file_extension": ".py",
      "mimetype": "text/x-python",
      "name": "python",
      "nbconvert_exporter": "python",
      "pygments_lexer": "ipython3",
      "version": "3.10.6"
    },
    "colab": {
      "provenance": [],
      "gpuType": "T4"
    },
    "accelerator": "GPU"
  },
  "nbformat": 4,
  "nbformat_minor": 0
}